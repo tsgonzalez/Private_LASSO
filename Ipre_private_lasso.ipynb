{
  "nbformat": 4,
  "nbformat_minor": 0,
  "metadata": {
    "colab": {
      "name": "Ipre_private_lasso.ipynb",
      "provenance": [],
      "collapsed_sections": [
        "UaQgBuMpfzW_"
      ]
    },
    "kernelspec": {
      "display_name": "Python 3",
      "name": "python3"
    },
    "language_info": {
      "name": "python"
    }
  },
  "cells": [
    {
      "cell_type": "markdown",
      "metadata": {
        "id": "0OZ0exxSE_Uo"
      },
      "source": [
        "En este codigo se programa eficientemente una solucion al problema lasso"
      ]
    },
    {
      "cell_type": "markdown",
      "metadata": {
        "id": "F8GH65Es9NOJ"
      },
      "source": [
        "# Setup"
      ]
    },
    {
      "cell_type": "code",
      "metadata": {
        "id": "b61j9a5O8-gb"
      },
      "source": [
        "import numpy as np\n",
        "import pandas as pd\n",
        "import matplotlib.pyplot as plt\n",
        "import time"
      ],
      "execution_count": 1,
      "outputs": []
    },
    {
      "cell_type": "markdown",
      "metadata": {
        "id": "UaQgBuMpfzW_"
      },
      "source": [
        "# Functions "
      ]
    },
    {
      "cell_type": "markdown",
      "metadata": {
        "id": "LDNZmHCyImrj"
      },
      "source": [
        "## Optimization functions"
      ]
    },
    {
      "cell_type": "markdown",
      "metadata": {
        "id": "lQRidIne_gjI"
      },
      "source": [
        "https://stanford.edu/~jduchi/projects/DuchiShSiCh08.pdf "
      ]
    },
    {
      "cell_type": "code",
      "metadata": {
        "id": "pA_YWGlu-5he"
      },
      "source": [
        "def ERM(A, b, n, x):\n",
        "  return (1/n)*np.sum([loss(A[i], b[i], x) for i in range(n)])\n",
        "\n",
        "def ERM_gradient(A, b, n, d, x):\n",
        "  g = np.zeros(d)\n",
        "  for i in range(n):\n",
        "    g+= loss_gradient(A[i], b[i], x)\n",
        "  return (1/n)*g\n",
        "\n",
        "def loss(a,b,x):\n",
        "  return (np.dot(a,x)-b)**2\n",
        "\n",
        "def loss_gradient(a,b,x):\n",
        "  return 2*(np.dot(a,x)-b)*a\n",
        "\n",
        "def proyeccion_L1_no_neg(x,R,dim):\n",
        "  if np.linalg.norm(x, ord = 1) <= R:\n",
        "    return x\n",
        "  ordenado = -np.sort(-x, kind = 'mergesort')\n",
        "  p = 1\n",
        "  b = 0\n",
        "  for i in range(1,dim+1):\n",
        "    act = dim-i\n",
        "    b = np.sum(ordenado[:act+1]) - R\n",
        "    if ordenado[act] > b/(act+1):\n",
        "      p = act+1\n",
        "      break \n",
        "  theta = b/p \n",
        "  return (x-theta).clip(min = 0) \n",
        "\n",
        "def L1_projection(x,R,dim):\n",
        "  u = abs(x)\n",
        "  beta = proyeccion_L1_no_neg(u,R,dim)\n",
        "  return np.sign(x)*beta"
      ],
      "execution_count": 2,
      "outputs": []
    },
    {
      "cell_type": "markdown",
      "metadata": {
        "id": "kOs0Cf8L4mBT"
      },
      "source": [
        "## Privacy functions"
      ]
    },
    {
      "cell_type": "code",
      "metadata": {
        "id": "_W_5kehC4nn7"
      },
      "source": [
        "#https://programming-dp.com/notebooks/ch5.html\n",
        "def gaussian_mech(vec, sigma):\n",
        "    return np.array([v + np.random.normal(loc=0, scale=sigma) for v in vec])\n",
        "\n",
        "def laplace_mech(v, scale):\n",
        "    return v + np.random.laplace(loc=0, scale=scale)\n",
        "\n",
        "def report_noisy_max(dim, d, s, scale):\n",
        "\n",
        "    noisy_scores = np.zeros(2*dim)\n",
        "    for i in range(dim):\n",
        "      noisy_scores[2*i] = laplace_mech(s*d[i] , scale)\n",
        "      noisy_scores[2*i + 1] = laplace_mech(-s*d[i] , scale)\n",
        "    min_idx = np.argmin(noisy_scores)\n",
        "    # Return the coordinate \n",
        "    return min_idx"
      ],
      "execution_count": 3,
      "outputs": []
    },
    {
      "cell_type": "markdown",
      "metadata": {
        "id": "1Dxl4ws3uGPp"
      },
      "source": [
        "## Dataset generation functions"
      ]
    },
    {
      "cell_type": "markdown",
      "metadata": {
        "id": "_z1yVMjfuceY"
      },
      "source": [
        "Now that we know how to generate $x^*$, we'd like to generate datasets such that we solve the problem in the realizable case."
      ]
    },
    {
      "cell_type": "code",
      "metadata": {
        "id": "dg0dnMWEuoWy"
      },
      "source": [
        "def uniform_subset_sampling(L,l,s):\n",
        "  \"\"\"\n",
        "  Input: List L of lenght l, and a parameter s\n",
        "  Output: subset of L of size s.\n",
        "  \"\"\"\n",
        "  selected_indexes = []\n",
        "  t = 0 \n",
        "  d = 0\n",
        "  while d<s:\n",
        "    u = np.random.random()\n",
        "    if u <= (s-d)/(l-t):\n",
        "      selected_indexes.append(t)\n",
        "      d+=1\n",
        "    t+=1\n",
        "  return selected_indexes\n",
        "\n",
        "def generate_hypothesis_vec(d,s):\n",
        "  \"\"\"\n",
        "  Returns x* for the realizable case, where d is dimension\n",
        "  and s is sparsity level. \n",
        "  \"\"\"\n",
        "  selected_positions = uniform_subset_sampling(list(range(d)),d,s)\n",
        "  return np.array([np.random.choice([1,-1]) if i in selected_positions else 0 for i in range(d)])\n",
        "\n",
        "def fast_generate_dataset(x_star, n, d, L=1):\n",
        "  \"\"\"\n",
        "  Generates a valid dataset\n",
        "  \"\"\"\n",
        "  A = 2*L*np.random.rand(n, d) - L\n",
        "  b = A.dot(x_star)\n",
        "  return A, b"
      ],
      "execution_count": 4,
      "outputs": []
    },
    {
      "cell_type": "markdown",
      "metadata": {
        "id": "fagl8ATKter0"
      },
      "source": [
        "# Class Experiment + example "
      ]
    },
    {
      "cell_type": "markdown",
      "metadata": {
        "id": "Kn_DOCkJf5-D"
      },
      "source": [
        "## Code"
      ]
    },
    {
      "cell_type": "code",
      "metadata": {
        "id": "BmrCzcnhyc6X"
      },
      "source": [
        "class Experiment(object):\n",
        "\n",
        "  def __init__(self, n, epsilon, delta, s, L=1):\n",
        "    self.n = n\n",
        "    self.epsilon = epsilon \n",
        "    self.delta = delta\n",
        "    self.s = s\n",
        "    self.L = L\n",
        "    self.L0 = 4*L**2*s\n",
        "    self.L1 = 2*L**2\n",
        "    self.sfw_results = dict()\n",
        "    self.sgd_results = dict()\n",
        "\n",
        "  def full_batch_polySFW(self, A, b, A_test, b_test, test_size, d):\n",
        "    #https://arxiv.org/pdf/1411.5417.pdf algorithm 4\n",
        "\n",
        "    T = int((4*self.L**2*self.s**2*self.n*epsilon/(self.s*self.L0))**(2/3)) #curvatura se puede acotar por suavidad y radio de la bola\n",
        "    x = np.zeros(d) \n",
        "    for t in range(T):\n",
        "      gradient = ERM_gradient(A, b, self.n, d, x)\n",
        "      alpha_t = report_noisy_max(d, gradient, self.s, self.L0*self.s*np.sqrt(8*T*np.log(1/self.delta))/(self.n*self.epsilon))\n",
        "      x = (1-1/(T+2))*x \n",
        "      x[alpha_t//2] += self.s*(1-2*(alpha_t%2))*(1/(T+2))\n",
        "    return ERM(A_test,b_test,test_size,x)\n",
        " \n",
        "  \n",
        "  def PhasedSGD(self, A, b, A_test, b_test, test_size, dim, L=1):\n",
        "\n",
        "    #https://arxiv.org/pdf/2005.04763.pdf algorithm 2\n",
        "\n",
        "    rho = -np.sqrt(2*np.log(1/self.delta)) + np.sqrt(2*np.log(1/self.delta) + 2*self.epsilon)\n",
        "    eta = (np.sqrt(dim)/self.L0)*np.min([4/np.sqrt(self.n), rho/np.sqrt(dim)])\n",
        "    wi = np.zeros(dim)\n",
        "    k = int(np.ceil(np.log2(n)))\n",
        "    current = 0\n",
        "    for i in range(1,k+1):\n",
        "      ni = int(n*2**(-i))\n",
        "      etai = eta*4**(-i)\n",
        "      xi = self._PSGD(A, b, current, wi, etai, ni, dim, L)\n",
        "      current+= ni\n",
        "      wi = gaussian_mech(xi/(i+1) + i*wi/(i+1), 4*self.L0*etai/rho) \n",
        "      \n",
        "    return ERM(A_test,b_test,test_size,L1_projection(wi,self.s-10**(-14),dim))\n",
        "    #return ERM(A_test,b_test,test_size,wi)\n",
        "\n",
        "    \n",
        "  def _PSGD(self, A, b, current, w0, eta, T, dim, L):\n",
        "    w = w0\n",
        "    for j in range(current, current + T):\n",
        "      gradient = loss_gradient(A[j],b[j],w)\n",
        "      w = L1_projection(w - eta*gradient,self.s-10**(-14),dim)\n",
        "    return w\n",
        "  \n",
        "  def polySFW(self, A, b, A_val, b_val, val_size, A_test, b_test, test_size, n, epsilon, delta, dim, L=1):\n",
        "    \n",
        "    #https://arxiv.org/abs/2103.01278 algorithm 1\n",
        "    \n",
        "    x_old = np.zeros(dim) \n",
        "    x_min = x_old\n",
        "    min = ERM(A_val,b_val,val_size, x_old)\n",
        "    eta = np.log(n/np.log(2*dim))/n \n",
        "    d = ERM_gradient(A[0:int(n/2),], b[0:int(n/2)], int(n/2), dim, x_old)\n",
        "    alpha_0 = report_noisy_max(dim, d, self.s, 4*self.L0*self.s*np.sqrt(np.log(1/delta))/(np.sqrt(n)*epsilon))\n",
        "    x_new = (1-eta)*x_old \n",
        "    x_new[alpha_0//2] += eta*self.s\n",
        "    _min = ERM(A_val,b_val,val_size, x_new)\n",
        "    if _min<min:\n",
        "      x_min = x_new\n",
        "    for t in range(1,int(n/2)):\n",
        "      st = np.max([(1-eta)**t*2*self.L0*self.s/n, 2*eta*self.s*(self.L1*self.s+self.L0)])\n",
        "      _a,_b = A[int(n/2)+(t-1),] , b[int(n/2)+(t-1)]\n",
        "      gradient_old = loss_gradient(_a,_b, x_old)\n",
        "      gradient_new = loss_gradient(_a,_b, x_new)\n",
        "      gradient_variation = gradient_new - gradient_old\n",
        "      d = (1-eta)*(d + gradient_variation) + eta*gradient_new\n",
        "      alpha_t = report_noisy_max(dim, d, self.s, 2*(st)*np.sqrt(n*np.log(1/delta))/epsilon)\n",
        "      x_new, x_old = (1-eta)*x_old, x_new\n",
        "      x_new[alpha_t//2] += eta*self.s\n",
        "      _min = ERM(A_val,b_val,val_size, x_new)\n",
        "      if _min<min:\n",
        "        x_min = x_new\n",
        "    \n",
        "    return ERM(A_test,b_test,test_size, x_min)\n",
        "  \n",
        "  def mini_batch_polySFW(self, A, b, A_test, b_test, test_size, n, epsilon, delta, dim, L=1):\n",
        "\n",
        "    x_old = np.zeros(dim) \n",
        "    x_min = x_old\n",
        "    min = ERM(A_test,b_test,test_size, x_old)\n",
        "    eta = np.log(n/np.log(2*dim))/n \n",
        "    d = ERM_gradient(A[0:int(n/2),], b[0:int(n/2)], int(n/2), dim, x_old)\n",
        "    #alpha_0 = report_noisy_max(dim, d, self.s, epsilon)\n",
        "    alpha_0 = report_noisy_max(dim, d, self.s, 4*self.L0*self.s*np.sqrt(np.log(1/delta))/(np.sqrt(n)*epsilon))\n",
        "    #print(4*self.L0*self.s*np.sqrt(np.log(1/delta))/(np.sqrt(n)*epsilon))\n",
        "    x_new = (1-eta)*x_old \n",
        "    x_new[alpha_0//2] += eta*self.s\n",
        "    _min = ERM(A_test,b_test,test_size, x_new)\n",
        "    if _min<min:\n",
        "      x_min = x_new\n",
        "    for t in range(1,int(n/128)):\n",
        "      st = np.max([(1-eta)**t*2*self.L0*self.s/n, 2*eta*self.s*(self.L1*self.s+self.L0)])\n",
        "      _a,_b = A[int(n/2)+(t-1):int(n/2)+(t-1) + 64 ,] , b[int(n/2)+(t-1):int(n/2)+(t-1) + 64]\n",
        "      gradient_old = ERM_gradient(_a,_b, 1, dim, x_old)\n",
        "      gradient_new = ERM_gradient(_a,_b, 1, dim, x_new)\n",
        "      gradient_variation = gradient_new - gradient_old\n",
        "      d = (1-eta)*(d + gradient_variation) + eta*gradient_new\n",
        "      alpha_t = report_noisy_max(dim, d, self.s, 2*(st/64)*np.sqrt(n*np.log(1/delta))/epsilon)\n",
        "      x_new, x_old = (1-eta)*x_old, x_new\n",
        "      x_new[alpha_t//2] += eta*self.s\n",
        "      _min = ERM(A_test,b_test,test_size, x_new)\n",
        "    if _min<min:\n",
        "      x_min = x_new\n",
        "    \n",
        "    return ERM(A_test,b_test,test_size, x_min), _min\n",
        "    "
      ],
      "execution_count": 22,
      "outputs": []
    },
    {
      "cell_type": "markdown",
      "metadata": {
        "id": "bGbjBgkk4-GR"
      },
      "source": [
        "## Example "
      ]
    },
    {
      "cell_type": "markdown",
      "metadata": {
        "id": "8SoQrWZleuSt"
      },
      "source": [
        "First we set the parameters that are common to all experiments"
      ]
    },
    {
      "cell_type": "code",
      "metadata": {
        "id": "v-BppFFTkx7N"
      },
      "source": [
        "n = 512\n",
        "s = 15\n",
        "epsilon = 2\n",
        "delta = 10**(-2)\n",
        "experiment = Experiment(n, epsilon, delta, s)\n",
        "val_size = 1000\n",
        "test_size = 1000"
      ],
      "execution_count": 23,
      "outputs": []
    },
    {
      "cell_type": "markdown",
      "metadata": {
        "id": "x52DfD9he6X4"
      },
      "source": [
        "now we set the parameters that depend on the dimension"
      ]
    },
    {
      "cell_type": "code",
      "metadata": {
        "id": "c-Pk0iQ2l5pG"
      },
      "source": [
        "d = 2**10\n",
        "x_star = generate_hypothesis_vec(d,s)\n",
        "A, b = fast_generate_dataset(x_star,n,d)\n",
        "A_test, b_test = fast_generate_dataset(x_star,test_size,d)\n",
        "A_val,b_val = fast_generate_dataset(x_star,val_size,d)"
      ],
      "execution_count": 28,
      "outputs": []
    },
    {
      "cell_type": "markdown",
      "metadata": {
        "id": "9geC1LTBeyZe"
      },
      "source": [
        "we run Private Polyhedral Frank-Wolfe"
      ]
    },
    {
      "cell_type": "code",
      "source": [
        "experiment.polySFW(A, b, A_val, b_val, val_size, A_test, b_test, test_size, n, epsilon, delta, d)"
      ],
      "metadata": {
        "colab": {
          "base_uri": "https://localhost:8080/"
        },
        "id": "MUzd3BZWkEnb",
        "outputId": "488391cc-2fb8-4c79-b828-b168a49e66b3"
      },
      "execution_count": 30,
      "outputs": [
        {
          "output_type": "execute_result",
          "data": {
            "text/plain": [
              "5.356657105029687"
            ]
          },
          "metadata": {},
          "execution_count": 30
        }
      ]
    },
    {
      "cell_type": "markdown",
      "metadata": {
        "id": "XSmxP34je12A"
      },
      "source": [
        "and finally we run Phased SGD"
      ]
    },
    {
      "cell_type": "code",
      "metadata": {
        "colab": {
          "base_uri": "https://localhost:8080/"
        },
        "id": "pJH7-yG3O_eM",
        "outputId": "64eada75-61c6-4928-d82c-931a38e39cd5"
      },
      "source": [
        "experiment.PhasedSGD(A, b, A_test, b_test, test_size, d)"
      ],
      "execution_count": 29,
      "outputs": [
        {
          "output_type": "execute_result",
          "data": {
            "text/plain": [
              "27.695493398414882"
            ]
          },
          "metadata": {},
          "execution_count": 29
        }
      ]
    },
    {
      "cell_type": "markdown",
      "metadata": {
        "id": "9JSUESuizi5e"
      },
      "source": [
        "# Experiment "
      ]
    },
    {
      "cell_type": "code",
      "metadata": {
        "id": "wKX_Tqmkzi5e"
      },
      "source": [
        "n = 2**10\n",
        "s = 10\n",
        "epsilon = 0.1\n",
        "delta = 10**(-3)\n",
        "val_size = 100\n",
        "test_size = 100\n",
        "experiment = Experiment(n, epsilon, delta, s)"
      ],
      "execution_count": 32,
      "outputs": []
    },
    {
      "cell_type": "code",
      "metadata": {
        "id": "QtQ6nOl2zi5e"
      },
      "source": [
        "from IPython.display import clear_output\n",
        "\n",
        "for i in range(6,15):\n",
        "  print(f'dimension {2**i}')\n",
        "  d = 2**i\n",
        "  for j in range(10):\n",
        "    print(f'j = {j}')\n",
        "    x_star = generate_hypothesis_vec(d,s)\n",
        "    x_star = generate_hypothesis_vec(d,s)\n",
        "    A, b = fast_generate_dataset(x_star,n,d)\n",
        "    A_test, b_test = fast_generate_dataset(x_star,test_size,d)\n",
        "    A_val,b_val = fast_generate_dataset(x_star,val_size,d)\n",
        "    sfw_test = experiment.polySFW(A, b, A_val, b_val, val_size, A_test, b_test, test_size, n, epsilon, delta, d)\n",
        "    experiment.sfw_results[(i,j)] = sfw_test\n",
        "    sgd_test = experiment.PhasedSGD(A, b, A_test, b_test, test_size, d)\n",
        "    experiment.sgd_results[(i,j)] = sgd_test\n",
        "clear_output()"
      ],
      "execution_count": 37,
      "outputs": []
    },
    {
      "cell_type": "code",
      "metadata": {
        "colab": {
          "base_uri": "https://localhost:8080/"
        },
        "id": "PnJRMXXmzi5e",
        "outputId": "94673632-00d3-4719-ab14-51b789715826"
      },
      "source": [
        "experiment.sfw_results"
      ],
      "execution_count": 38,
      "outputs": [
        {
          "output_type": "execute_result",
          "data": {
            "text/plain": [
              "{(6, 0): 2.9434109512325164,\n",
              " (6, 1): 3.354138959827856,\n",
              " (6, 2): 2.9073263506582565,\n",
              " (6, 3): 2.780038218396106,\n",
              " (6, 4): 3.217787754697688,\n",
              " (6, 5): 2.642110232374879,\n",
              " (6, 6): 4.07690874604328,\n",
              " (6, 7): 3.6948629214366946,\n",
              " (6, 8): 2.8036559152263885,\n",
              " (6, 9): 2.8548481184730496,\n",
              " (7, 0): 3.017200525891715,\n",
              " (7, 1): 3.1160409996487277,\n",
              " (7, 2): 4.190844885732742,\n",
              " (7, 3): 2.3944761821278138,\n",
              " (7, 4): 3.0890473137963306,\n",
              " (7, 5): 3.227303776412681,\n",
              " (7, 6): 3.6253818675793457,\n",
              " (7, 7): 3.0625569622674393,\n",
              " (7, 8): 3.319627418162886,\n",
              " (7, 9): 2.7769097093434976,\n",
              " (8, 0): 3.4943343450039213,\n",
              " (8, 1): 3.7956336816505227,\n",
              " (8, 2): 3.460308992917354,\n",
              " (8, 3): 3.8198672976864674,\n",
              " (8, 4): 3.2915473168424403,\n",
              " (8, 5): 3.4827765340261574,\n",
              " (8, 6): 2.761568498746467,\n",
              " (8, 7): 2.85410696881633,\n",
              " (8, 8): 3.605140061903949,\n",
              " (8, 9): 3.769358311330858,\n",
              " (9, 0): 3.969839104280531,\n",
              " (9, 1): 3.7283359161840184,\n",
              " (9, 2): 3.449569842944123,\n",
              " (9, 3): 3.3315233211169564,\n",
              " (9, 4): 3.4438627126965176,\n",
              " (9, 5): 3.41003063989544,\n",
              " (9, 6): 3.261762281837258,\n",
              " (9, 7): 3.597248159689081,\n",
              " (9, 8): 3.0717016462322166,\n",
              " (9, 9): 3.362286423594854,\n",
              " (10, 0): 3.3513068106474364,\n",
              " (10, 1): 2.444271497200477,\n",
              " (10, 2): 3.425621739881085,\n",
              " (10, 3): 4.060944014068503,\n",
              " (10, 4): 2.674773617405506,\n",
              " (10, 5): 3.8515024994022804,\n",
              " (10, 6): 3.307841818424267,\n",
              " (10, 7): 4.026523005922963,\n",
              " (10, 8): 3.8368026856654707,\n",
              " (10, 9): 3.3302533669534347,\n",
              " (11, 0): 3.3990770375482477,\n",
              " (11, 1): 4.034690747191597,\n",
              " (11, 2): 3.17255765814018,\n",
              " (11, 3): 3.1662003668393135,\n",
              " (11, 4): 3.369342599344954,\n",
              " (11, 5): 4.238657551431366,\n",
              " (11, 6): 3.418275820614866,\n",
              " (11, 7): 2.9016270151089656,\n",
              " (11, 8): 3.403488932544583,\n",
              " (11, 9): 3.1629586947875823,\n",
              " (12, 0): 3.0688989210100743,\n",
              " (12, 1): 3.3788185794247365,\n",
              " (12, 2): 3.334714618342131,\n",
              " (12, 3): 3.349168457830249,\n",
              " (12, 4): 3.6473859982088226,\n",
              " (12, 5): 3.4582281512535156,\n",
              " (12, 6): 3.504315748233551,\n",
              " (12, 7): 3.5754801100590483,\n",
              " (12, 8): 4.46522665812474,\n",
              " (12, 9): 3.4026106979928836,\n",
              " (13, 0): 3.864432901075052,\n",
              " (13, 1): 3.3559437877678717,\n",
              " (13, 2): 3.9990003745963913,\n",
              " (13, 3): 3.5186187474785044,\n",
              " (13, 4): 3.992776693896442,\n",
              " (13, 5): 3.7783375790209197,\n",
              " (13, 6): 2.7292115497875105,\n",
              " (13, 7): 2.720915825240946,\n",
              " (13, 8): 4.146944618190433,\n",
              " (13, 9): 3.398133639593541,\n",
              " (14, 0): 3.824013991585555,\n",
              " (14, 1): 3.6664622407575576,\n",
              " (14, 2): 3.1680612029958097,\n",
              " (14, 3): 3.6944406732756976,\n",
              " (14, 4): 3.5651304498003005,\n",
              " (14, 5): 3.506285677465718,\n",
              " (14, 6): 3.1977978554705455,\n",
              " (14, 7): 4.161680078833337,\n",
              " (14, 8): 3.3322929324257955,\n",
              " (14, 9): 3.275592576112359}"
            ]
          },
          "metadata": {},
          "execution_count": 38
        }
      ]
    },
    {
      "cell_type": "code",
      "metadata": {
        "colab": {
          "base_uri": "https://localhost:8080/"
        },
        "id": "HXUbQJ4vzi5f",
        "outputId": "6af3d01e-18c1-4850-bb15-ac09ca4176d1"
      },
      "source": [
        "experiment.sgd_results"
      ],
      "execution_count": 39,
      "outputs": [
        {
          "output_type": "execute_result",
          "data": {
            "text/plain": [
              "{(6, 0): 8.86061497264813,\n",
              " (6, 1): 8.592354451749035,\n",
              " (6, 2): 8.62258528832317,\n",
              " (6, 3): 5.1487844485980405,\n",
              " (6, 4): 7.4467269210335,\n",
              " (6, 5): 10.531768982423673,\n",
              " (6, 6): 10.4083371377098,\n",
              " (6, 7): 9.114325015469886,\n",
              " (6, 8): 6.765052895313588,\n",
              " (6, 9): 7.4492710194996805,\n",
              " (7, 0): 10.907849600973366,\n",
              " (7, 1): 7.8013693175248084,\n",
              " (7, 2): 13.187699482873025,\n",
              " (7, 3): 10.777083639546177,\n",
              " (7, 4): 9.978419995772471,\n",
              " (7, 5): 11.209786797941021,\n",
              " (7, 6): 11.655523396840568,\n",
              " (7, 7): 11.700382671484242,\n",
              " (7, 8): 6.87683968202908,\n",
              " (7, 9): 6.483308313657063,\n",
              " (8, 0): 12.955325137892071,\n",
              " (8, 1): 12.675176973436022,\n",
              " (8, 2): 10.959242783931588,\n",
              " (8, 3): 8.388572738247948,\n",
              " (8, 4): 10.235602743973214,\n",
              " (8, 5): 10.628100029704635,\n",
              " (8, 6): 8.247293705680358,\n",
              " (8, 7): 11.39402076687359,\n",
              " (8, 8): 14.079340852278063,\n",
              " (8, 9): 14.587402465239537,\n",
              " (9, 0): 15.03566215306801,\n",
              " (9, 1): 14.200560132827407,\n",
              " (9, 2): 16.10773886822073,\n",
              " (9, 3): 16.68319333598054,\n",
              " (9, 4): 15.19323007415372,\n",
              " (9, 5): 20.297578774974106,\n",
              " (9, 6): 15.711332936286073,\n",
              " (9, 7): 15.685610177855777,\n",
              " (9, 8): 16.58242835590687,\n",
              " (9, 9): 15.916523787451482,\n",
              " (10, 0): 23.200907679191918,\n",
              " (10, 1): 22.507184724504125,\n",
              " (10, 2): 21.85003775647608,\n",
              " (10, 3): 22.46824064789408,\n",
              " (10, 4): 17.60764805291679,\n",
              " (10, 5): 30.88020229820006,\n",
              " (10, 6): 21.227745609055706,\n",
              " (10, 7): 23.074395003321676,\n",
              " (10, 8): 23.29259558081795,\n",
              " (10, 9): 26.488797185474528,\n",
              " (11, 0): 35.06066070304615,\n",
              " (11, 1): 38.51398986661527,\n",
              " (11, 2): 47.50267601229747,\n",
              " (11, 3): 28.419271024332826,\n",
              " (11, 4): 31.31921866693655,\n",
              " (11, 5): 38.035626948317514,\n",
              " (11, 6): 47.749803357041266,\n",
              " (11, 7): 40.17818911503593,\n",
              " (11, 8): 37.58507458147781,\n",
              " (11, 9): 44.921801742051294,\n",
              " (12, 0): 66.94838550824487,\n",
              " (12, 1): 71.00768681277178,\n",
              " (12, 2): 54.41779659019751,\n",
              " (12, 3): 75.23723328683484,\n",
              " (12, 4): 70.09311998995172,\n",
              " (12, 5): 60.89150059235775,\n",
              " (12, 6): 74.58604612514131,\n",
              " (12, 7): 66.71441688652902,\n",
              " (12, 8): 69.1136656901984,\n",
              " (12, 9): 69.00026913276861,\n",
              " (13, 0): 146.04291628642306,\n",
              " (13, 1): 132.82953109771827,\n",
              " (13, 2): 149.69398172087114,\n",
              " (13, 3): 132.02559060787968,\n",
              " (13, 4): 121.00082620745684,\n",
              " (13, 5): 143.7681031273048,\n",
              " (13, 6): 104.35799688552507,\n",
              " (13, 7): 140.0681018272938,\n",
              " (13, 8): 145.35737074992025,\n",
              " (13, 9): 131.470461065376,\n",
              " (14, 0): 224.66228952573172,\n",
              " (14, 1): 279.35003006689806,\n",
              " (14, 2): 258.5991898972767,\n",
              " (14, 3): 282.0110698621519,\n",
              " (14, 4): 302.55858677238814,\n",
              " (14, 5): 245.73570660857456,\n",
              " (14, 6): 244.73883555816153,\n",
              " (14, 7): 288.5702961402442,\n",
              " (14, 8): 220.53024353168684,\n",
              " (14, 9): 294.749568827725}"
            ]
          },
          "metadata": {},
          "execution_count": 39
        }
      ]
    },
    {
      "cell_type": "code",
      "metadata": {
        "colab": {
          "base_uri": "https://localhost:8080/",
          "height": 422
        },
        "id": "mlf2w7Myzi5f",
        "outputId": "9f291364-4d6a-4ad9-d0c5-db1f7fc97478"
      },
      "source": [
        "sfw_mean = np.array([np.mean([experiment.sfw_results[(i,j)] for j in range(10)]) for i in range(6,15)])\n",
        "sfw_max = np.array([np.max([experiment.sfw_results[(i,j)] for j in range(10)]) for i in range(6,15)])\n",
        "sfw_min = np.array([np.min([experiment.sfw_results[(i,j)] for j in range(10)]) for i in range(6,15)])\n",
        "\n",
        "sgd_mean = np.array([np.mean([experiment.sgd_results[(i,j)] for j in range(10)]) for i in range(6,15)])\n",
        "sgd_max = np.array([np.max([experiment.sgd_results[(i,j)] for j in range(10)]) for i in range(6,15)])\n",
        "sgd_min = np.array([np.min([experiment.sgd_results[(i,j)] for j in range(10)]) for i in range(6,15)])\n",
        "\n",
        "\n",
        "plt.plot(range(6,15), sgd_mean, color = 'r', label = 'Phased SGD')\n",
        "plt.fill_between(range(6,15), sgd_min, sgd_max , color='pink', alpha=.15)\n",
        "plt.plot(range(6,15), sfw_mean, color='b', label = 'Noisy SFW')\n",
        "plt.fill_between(range(6,15), sfw_min, sfw_max , color='lightblue', alpha=.15)\n",
        "plt.ylabel('Excess risk')\n",
        "plt.xlabel('$log_2(d)$')\n",
        "plt.legend()\n",
        "plt.savefig('/content/drive/MyDrive/Universidad/quinto año/ipre/final_error_ipre.eps', format='eps')\n",
        "plt.show()  "
      ],
      "execution_count": 41,
      "outputs": [
        {
          "output_type": "stream",
          "name": "stderr",
          "text": [
            "The PostScript backend does not support transparency; partially transparent artists will be rendered opaque.\n",
            "The PostScript backend does not support transparency; partially transparent artists will be rendered opaque.\n",
            "The PostScript backend does not support transparency; partially transparent artists will be rendered opaque.\n",
            "The PostScript backend does not support transparency; partially transparent artists will be rendered opaque.\n",
            "The PostScript backend does not support transparency; partially transparent artists will be rendered opaque.\n",
            "The PostScript backend does not support transparency; partially transparent artists will be rendered opaque.\n",
            "The PostScript backend does not support transparency; partially transparent artists will be rendered opaque.\n",
            "The PostScript backend does not support transparency; partially transparent artists will be rendered opaque.\n"
          ]
        },
        {
          "output_type": "display_data",
          "data": {
            "image/png": "[encoded data removed]",
            "text/plain": [
              "<Figure size 432x288 with 1 Axes>"
            ]
          },
          "metadata": {
            "needs_background": "light"
          }
        }
      ]
    },
    {
      "cell_type": "code",
      "metadata": {
        "colab": {
          "base_uri": "https://localhost:8080/",
          "height": 422
        },
        "id": "YyqjFWQUzi5g",
        "outputId": "2e530faf-74ee-4e73-fc36-f2052ae666a5"
      },
      "source": [
        "sfw_mean = np.array([np.mean([experiment.sfw_results[(i,j)] for j in range(10)]) for i in range(6,15)])\n",
        "sfw_max = np.array([np.max([experiment.sfw_results[(i,j)] for j in range(10)]) for i in range(6,15)])\n",
        "sfw_min = np.array([np.min([experiment.sfw_results[(i,j)] for j in range(10)]) for i in range(6,15)])\n",
        "\n",
        "sgd_mean = np.array([np.mean([experiment.sgd_results[(i,j)] for j in range(10)]) for i in range(6,15)])\n",
        "sgd_max = np.array([np.max([experiment.sgd_results[(i,j)] for j in range(10)]) for i in range(6,15)])\n",
        "sgd_min = np.array([np.min([experiment.sgd_results[(i,j)] for j in range(10)]) for i in range(6,15)])\n",
        "\n",
        "plt.plot(range(6,15), np.log(sgd_mean), color = 'r', label = 'Phased SGD')\n",
        "plt.fill_between(range(6,15), np.log(sgd_min), np.log(sgd_max) , color='pink', alpha=.15)\n",
        "plt.plot(range(6,15), np.log(sfw_mean), color='b', label = 'Noisy SFW')\n",
        "plt.fill_between(range(6,15), np.log(sfw_min), np.log(sfw_max) , color='lightblue', alpha=.15)\n",
        "plt.ylabel('$log_2(Excess risk)$')\n",
        "plt.xlabel('$log_2(d)$')\n",
        "plt.legend()\n",
        "plt.savefig('/content/drive/MyDrive/Universidad/quinto año/logerror_ipre.eps', format='eps')\n",
        "#plt.savefig('logdlogerror.svg', format='svg', dpi=1200)\n",
        "#plt.ylim(-2,1)\n",
        "plt.show()  "
      ],
      "execution_count": 45,
      "outputs": [
        {
          "output_type": "stream",
          "name": "stderr",
          "text": [
            "The PostScript backend does not support transparency; partially transparent artists will be rendered opaque.\n",
            "The PostScript backend does not support transparency; partially transparent artists will be rendered opaque.\n",
            "The PostScript backend does not support transparency; partially transparent artists will be rendered opaque.\n",
            "The PostScript backend does not support transparency; partially transparent artists will be rendered opaque.\n",
            "The PostScript backend does not support transparency; partially transparent artists will be rendered opaque.\n",
            "The PostScript backend does not support transparency; partially transparent artists will be rendered opaque.\n",
            "The PostScript backend does not support transparency; partially transparent artists will be rendered opaque.\n",
            "The PostScript backend does not support transparency; partially transparent artists will be rendered opaque.\n"
          ]
        },
        {
          "output_type": "display_data",
          "data": {
            "image/png": "[encoded data removed]",
            "text/plain": [
              "<Figure size 432x288 with 1 Axes>"
            ]
          },
          "metadata": {
            "needs_background": "light"
          }
        }
      ]
    }
  ]
}